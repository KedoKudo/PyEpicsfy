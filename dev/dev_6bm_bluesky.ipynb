{
 "cells": [
  {
   "cell_type": "markdown",
   "metadata": {},
   "source": [
    "# Overview\n",
    "\n",
    "This notebook is the development notes for using `bluesky` and `apstools` to conduct Tomography experiment at 6BM-A at the advanced photon source.\n",
    "\n",
    "The notebook contains the following sections:\n",
    "* preparation\n",
    "    * installation and configuration of `bluesky`+`apstools` for 6BM-A\n",
    "        * package installation\n",
    "        * meta-data broker configuration\n",
    "    * user-define functions that is useful for the tomography experiment\n",
    "* device declaration: declare `ophyd` interface for `Epics` devices\n",
    "    * device initilization\n",
    "* tomography experiment\n",
    "    * plan generation\n",
    "    * dry-run\n",
    "    * connect to devices for experiment"
   ]
  },
  {
   "cell_type": "markdown",
   "metadata": {},
   "source": [
    "# Preparation"
   ]
  },
  {
   "cell_type": "markdown",
   "metadata": {},
   "source": [
    "Install `bluesky` and `apstools` with the following command:\n",
    "\n",
    "```bash\n",
    "pip install -U pip\n",
    "pip install boltons mongoquery pims pyepics pyRestTable tzlocal jupyter suitcase matplotlib\n",
    "pip install git+https://github.com/Nikea/historydict#egg=historydict \\\n",
    "            git+https://github.com/NSLS-II/amostra#egg=amostra \\\n",
    "            git+https://github.com/NSLS-II/bluesky#egg=bluesky \\\n",
    "            git+https://github.com/NSLS-II/databroker#egg=databroker \\\n",
    "            git+https://github.com/NSLS-II/doct#egg=doct \\\n",
    "            git+https://github.com/NSLS-II/event-model#egg=event_model \\\n",
    "            git+https://github.com/NSLS-II/ophyd#egg=ophyd \\\n",
    "            git+https://github.com/NSLS-II/hklpy#egg=hklpy\n",
    "pip install apstools\n",
    "```"
   ]
  },
  {
   "cell_type": "markdown",
   "metadata": {},
   "source": [
    "Then configure MongoDB for meta-data handling\n",
    "\n",
    "The following YAML config file should be place under `~/.config/` to use MongoDB as meta-data handler.\n",
    "\n",
    "```yml\n",
    "# ~/.config/databroker/mongodb_config.yml\n",
    "\n",
    "description: 'heavyweight shared database'\n",
    "metadatastore:\n",
    "   module: 'databroker.headersource.mongo'\n",
    "   class: 'MDS'\n",
    "   config:\n",
    "       host: 'MONGODB_HOST_NAME'\n",
    "       port: 27017\n",
    "       database: 'metadatastore-production-v1'\n",
    "       timezone: 'US/Central'\n",
    "assets:\n",
    "   module: 'databroker.assets.mongo'\n",
    "   class: 'Registry'\n",
    "   config:\n",
    "       host: 'MONGODB_HOST_NAME'\n",
    "       port: 27017\n",
    "       database: 'filestore-production-v1'\n",
    "```"
   ]
  },
  {
   "cell_type": "code",
   "execution_count": null,
   "metadata": {},
   "outputs": [],
   "source": [
    "# initialize the data base\n",
    "from databroker import Broker\n",
    "db = Broker.named(\"mongodb_config\")\n",
    "\n",
    "# subscribe both mongodb and callback to runtime engine\n",
    "import bluesky\n",
    "from bluesky import RunEngine\n",
    "from bluesky.callbacks.best_effort import BestEffortCallback\n",
    "\n",
    "RE = RunEngine({})\n",
    "RE.subscribe(db.insert)\n",
    "RE.subscribe(BestEffortCallback())"
   ]
  },
  {
   "cell_type": "code",
   "execution_count": null,
   "metadata": {},
   "outputs": [],
   "source": [
    "# user defined function goes here\n",
    "\n",
    "# 1. checking the APS beam status\n",
    "import apstools.devices as APS_devices\n",
    "\n",
    "aps = APS_devices.ApsMachineParametersDevice(name=\"APS\")"
   ]
  },
  {
   "cell_type": "markdown",
   "metadata": {},
   "source": [
    "Now from the hardware end, we need additional setup IOC (soft) for this status, recommended method `VME`\n",
    "\n",
    "Here is a quick example from 2BM\n",
    "```python\n",
    "instrument_in_use = EpicsSignalRO(\n",
    "    \"2bm:instrument_in_use\", \n",
    "    name=\"instrument_in_use\")\n",
    "\n",
    "def operations_in_2bmb():\n",
    "    \"\"\"returns True if allowed to use X-ray beam in 2-BM-B station\"\"\"\n",
    "    v = instrument_in_use.value\n",
    "    enums = instrument_in_use.enum_strs\n",
    "    return enums[v] == \"2-BM-B\"\n",
    "```"
   ]
  },
  {
   "cell_type": "code",
   "execution_count": null,
   "metadata": {},
   "outputs": [],
   "source": [
    "# 2. assume we have the same setup describe above\n",
    "\n",
    "from ophyd import EpicsSignalRO\n",
    "\n",
    "instrument_in_use = EpicsSignalRO(\"6bm:instrument_in_use\", name=\"instrument_in_use\")"
   ]
  },
  {
   "cell_type": "code",
   "execution_count": null,
   "metadata": {},
   "outputs": [],
   "source": [
    "# 3. check ambien light in hutch\n",
    "import apstools.synApps_ophyd\n",
    "\n",
    "# grab all calcs\n",
    "calcs = apstools.synApps_ophyd.userCalcsDevice(\"6bma1:\", name=\"calcs\")\n",
    "\n",
    "# 2 is ambient light checker\n",
    "calc2 = clacs.calc2"
   ]
  },
  {
   "cell_type": "code",
   "execution_count": null,
   "metadata": {},
   "outputs": [],
   "source": [
    "# 4. define the ENV VAR denote the experiment nature\n",
    "# NOTE:\n",
    "#    the return value of instrument_in_use is not yet decided\n",
    "\n",
    "# conducting experiment mode\n",
    "in_production = aps.inUserOperations and (instrument_in_use.value>0) and (calc2<0)\n",
    "\n",
    "# testing mode, supercede in_production\n",
    "in_dryrun = True"
   ]
  },
  {
   "cell_type": "markdown",
   "metadata": {},
   "source": [
    "# Device declaration"
   ]
  },
  {
   "cell_type": "code",
   "execution_count": 1,
   "metadata": {},
   "outputs": [],
   "source": [
    "# necessary import\n",
    "import apstools.devices as APS_devices"
   ]
  },
  {
   "cell_type": "markdown",
   "metadata": {},
   "source": [
    "## shutter"
   ]
  },
  {
   "cell_type": "code",
   "execution_count": null,
   "metadata": {},
   "outputs": [],
   "source": [
    "if in_production:\n",
    "    # define the real shutter used at 6BMA@APS\n",
    "    # NOTE: \n",
    "    #   this requires connection to the hardware, otherwise a connection error will be raised\n",
    "\n",
    "    A_shutter = APS_devices.ApsPssShutterWithStatus(\n",
    "            \"6bmb1:rShtrA\",\n",
    "            \"PA:06BM:STA_A_FES_OPEN_PL\",\n",
    "            name=\"A_shutter\",\n",
    "        )\n",
    "\n",
    "    A_shutter.summary()\n",
    "    \n",
    "    # no scans until A_shutter is open\n",
    "    suspend_A_shutter = bluesky.suspenders.SuspendFloor(A_shutter.pss_state, 1)\n",
    "    #suspend_A_shutter.install(RE)\n",
    "    RE.install_suspender(suspend_A_shutter)\n",
    "    \n",
    "    # no scans if aps.current is too low\n",
    "    suspend_APS_current = bluesky.suspenders.SuspendFloor(aps.current, 2, resume_thresh=10)\n",
    "    RE.install_suspender(suspend_APS_current)\n",
    "\n",
    "else:\n",
    "    # first, a simulated shutter to demonstrate the design of epics controled shutter\n",
    "\n",
    "    A_shutter = APS_devices.SimulatedApsPssShutterWithStatus(name=\"A_shutter\")\n",
    "\n",
    "    A_shutter.summary()"
   ]
  },
  {
   "cell_type": "markdown",
   "metadata": {},
   "source": [
    "To open a shutter, use `A_shutter.open`. \n",
    "Similarly, the shutter can be closed with `A_shutter.close`.\n",
    "One can also check the current status of the shutter using `A_shutter.isOpen`."
   ]
  },
  {
   "cell_type": "markdown",
   "metadata": {},
   "source": [
    "## area detector"
   ]
  },
  {
   "cell_type": "code",
   "execution_count": 13,
   "metadata": {},
   "outputs": [
    {
     "name": "stdout",
     "output_type": "stream",
     "text": [
      "/tmp/enyaw_ecurb/redqueen/2019-04-05/ \n",
      "redqueen_bluerose\n"
     ]
    }
   ],
   "source": [
    "import os\n",
    "import datetime\n",
    "\n",
    "# production control ENV vars\n",
    "ADPV_prefix = \"1idPG3\"  # AreaDetector prefix\n",
    "\n",
    "# -----------------------\n",
    "# -- user config block --\n",
    "# -----------------------\n",
    "USER = \"enyaw_ecurb\"\n",
    "PROEJCT = \"redqueen\"     # Project name\n",
    "EXP = \"bluerose\"         # Experiment name\n",
    "OUTPUT_ROOT = \"/tmp\"     # The root for output data storage\n",
    "FILE_PATH =  os.path.join(OUTPUT_ROOT, USER, PROEJCT, str(datetime.date.today()), \" \")\n",
    "FILE_PREFIX = f\"{PROEJCT}_{EXP}\"\n",
    "\n",
    "# show where files will be stored\n",
    "print(FILE_PATH)\n",
    "print(FILE_PREFIX)"
   ]
  },
  {
   "cell_type": "code",
   "execution_count": null,
   "metadata": {},
   "outputs": [],
   "source": [
    "# As of today, there is still no support for Python class enclosure, so we have to make a class for the detector\n",
    "from ophyd import AreaDetector\n",
    "from ophyd import SingleTrigger\n",
    "from ophyd import ADComponent\n",
    "from ophyd import PointGreyDetectorCam\n",
    "from ophyd import ProcessPlugin\n",
    "from ophyd import TIFFPlugin\n",
    "from ophyd import sim\n",
    "\n",
    "class PointGreyDetectorCam6BM(PointGreyDetectorCam):\n",
    "    \"\"\"Extend the default Point Grey detector cam\"\"\"\n",
    "    frame_rate_on_off = ADComponent(EpicsSignalWithRBV, \"FrameRateOnOff\")\n",
    "\n",
    "\n",
    "class PointGreyDetector6BM(SingleTrigger, AreaDetector):\n",
    "    \"\"\"Point Gray area detector used at 6BM\"\"\"\n",
    "    # cam component\n",
    "    cam = ADComponent(PointGreyDetectorCam6BM, \"cam1:\")\n",
    "    \n",
    "    # proc plugin\n",
    "    proc1 = ADComponent(ProcessPlugin, suffix=\"Proc1:\")\n",
    "    \n",
    "    # tiff plugin\n",
    "    tiff1 = ADComponent(\n",
    "        TIFFPlugin,\n",
    "        suffix=\"TIFF1:\",\n",
    "        root=\"/\",                               # for databroker\n",
    "        write_path_template=FILE_PATH,          # for EPICS AD\n",
    "    )\n",
    "    \n",
    "\n",
    "# ------------------------------------\n",
    "# ----- Instantiate the detector ----- \n",
    "# ------------------------------------\n",
    "\n",
    "# Area Detector (AD) config block\n",
    "config_cam = {\n",
    "    \"num_images\":     1,           # number of images (nFrame)\n",
    "    \"image_mode\":     \"Multiple\",  #\n",
    "    \"trigger_mode\":   \"Internal\",  #\n",
    "    \"acquire_time\":   1,           # exposure time (fExposureTime)\n",
    "    \"acquire_period\": 1+0.01,      #\n",
    "    \"gain\":           5,           # detector gain [0~30]\n",
    "}\n",
    "\n",
    "config_proc1 = {\n",
    "    \"enable_callbacks\": 1,  # toggle on proc1\n",
    "    \"enable_filter\":    1,  # enable filter\n",
    "    \"num_filter\":       1,  # change number_filtered in proc1 (same as nFrame)\n",
    "    \"reset_filter\":     1,  # reset number_filtered\n",
    "}\n",
    "\n",
    "config_tiff1 = {\n",
    "    \"nd_array_port\":    \"PROC1\",      # switch port for TIFF plugin\n",
    "    \"file_write_mode\":  \"Stream\",     # change write mode\n",
    "    \"auto_save\":        \"Yes\",        # turn on file save\n",
    "    \"file_path\":        FILE_PATH,    # set file path\n",
    "    \"file_name\":        FILE_PREFIX,  # img name prefix\n",
    "}\n",
    "\n",
    "\n",
    "if in_production or in_dryrun:\n",
    "    pg3_det = PointGreyDetector6BM(\"1idPG3\", name='pg3_det')\n",
    "    \n",
    "    # catch timeout error in case detector not responding\n",
    "    try:\n",
    "        for k, v in config_cam.items():     pg3_det.cam.stage_sigs[k]   = v\n",
    "        for k, v in config_proc1.items():   pg3_det.proc1.stage_sigs[k] = v\n",
    "        for k, v in config_tiff1.items():   pg3_det.tiff1.stage_sigs[k] = v\n",
    "    except TimeoutError as _exc:\n",
    "        print(f\"{_exc}\\n !! Could not connect with area detector {pg3_det}\")\n",
    "else:\n",
    "    pg3_det = sim.noisy_det  # use ophyd simulated detector"
   ]
  },
  {
   "cell_type": "markdown",
   "metadata": {},
   "source": [
    "## motor"
   ]
  },
  {
   "cell_type": "code",
   "execution_count": null,
   "metadata": {},
   "outputs": [],
   "source": [
    "from ophyd import MotorBundle\n",
    "\n",
    "# NOTE: \n",
    "#    the PV for actual motors is still unknown\n",
    "class TomoStage(MotorBundle):\n",
    "    #rotation\n",
    "    preci = Component(EpicsMotor, \"6bmpreci:m1\",\n",
    "                      name='preci',\n",
    "                     )\n",
    "    \n",
    "    samX = Component(EpicsMotor, \"???\",\n",
    "                     name='samX',\n",
    "                    )\n",
    "    \n",
    "    samY = Component(EpicsMotor, \"???\",\n",
    "                     name=\"samY\",\n",
    "                    )\n",
    "\n",
    "if in_production or in_dryrun:\n",
    "    tomostage = TomoStage()\n",
    "\n",
    "    samx  = tomostage.samX\n",
    "    samy  = tomostage.samY\n",
    "    preci = tomostage.preci\n",
    "\n",
    "else:\n",
    "    tomostage = sim.motor"
   ]
  },
  {
   "cell_type": "markdown",
   "metadata": {},
   "source": [
    "# Tomography experiment"
   ]
  },
  {
   "cell_type": "markdown",
   "metadata": {},
   "source": [
    "## Scan plans\n",
    "\n",
    "Define the scan parameters within plan functions"
   ]
  },
  {
   "cell_type": "code",
   "execution_count": null,
   "metadata": {},
   "outputs": [],
   "source": [
    "import bluesky.plans as bp\n",
    "import bluesky.plan_stubs as bps\n",
    "\n",
    "\n",
    "# ---------------------------\n",
    "# ----- Scan parameters -----\n",
    "# ---------------------------\n",
    "n_white    = 10\n",
    "n_dark     = 10\n",
    "samOutDist = -4.00                           # mm\n",
    "omega_step = 0.25                            # degrees\n",
    "number_of_projections = int(180/omega_step)  # 0 ~ 180\n",
    "time_wait  = 0.01                            # s\n",
    "\n",
    "\n",
    "def collect_white_field():\n",
    "    \"\"\"collect 10 white field images before and after tomo scan\"\"\"\n",
    "    current_samx = samx.position\n",
    "\n",
    "    yield from bps.mv(\n",
    "        A_shutter,              \"open\", \n",
    "        samx,                   current_samx+samOutDist,\n",
    "        det.cam.trigger_mode,   \"Internal\",\n",
    "        det.cam.num_images,     n_white,\n",
    "        det.proc1.reset_filter, 1,\n",
    "    )\n",
    "    \n",
    "    yield from bps.trigger(det)\n",
    "    \n",
    "    yield from lambda _: while det.tiff1.num_captured.value < n_white: yield from bps.sleep(time_wait)\n",
    "\n",
    "    yield from bps.mv(\n",
    "        samx, current_samx\n",
    "    )\n",
    "\n",
    "\n",
    "def collect_dark_field():\n",
    "    \"\"\"collect 10 dark field images after tomo scan\"\"\"\n",
    "    current_samx = samx.position\n",
    "    \n",
    "    yield from bps.mv(\n",
    "        A_shutter,              \"close\", \n",
    "        samx,                   current_samx+samOutDist,\n",
    "        det.cam.trigger_mode,   \"Internal\",\n",
    "        det.cam.num_images,     n_dark,\n",
    "        det.proc1.reset_filter, 1,\n",
    "    )\n",
    "    \n",
    "    yield from bps.trigger(pg3_det)\n",
    "    \n",
    "    yield from lambda _: while det.tiff1.num_captured.value < n_dark: yield from bps.sleep(time_wait)\n",
    "\n",
    "    yield from bps.mv(\n",
    "        samx, current_samx\n",
    "    )\n",
    "    \n",
    "    \n",
    "def collect_projection():\n",
    "    \"\"\"tomo scna\"\"\"\n",
    "    yield from bp.scan(\n",
    "        [pg3_det], \n",
    "        preci, 0, 180, number_of_projections,\n",
    "    )"
   ]
  },
  {
   "cell_type": "markdown",
   "metadata": {},
   "source": [
    "## Scan plan pruning prior to execution\n",
    "\n",
    "Use the `summarize_plan` feature from bluesky to perform sanity check on the tomo scan plan"
   ]
  },
  {
   "cell_type": "code",
   "execution_count": null,
   "metadata": {},
   "outputs": [],
   "source": [
    "from bluesky.simulators import summarize_plan\n",
    "\n",
    "summarize_plan(collect_white_field)\n",
    "\n",
    "summarize_plan(collect_dark_field)\n",
    "\n",
    "summarize_plan(collect_projection)"
   ]
  },
  {
   "cell_type": "markdown",
   "metadata": {},
   "source": [
    "## Excuete plans"
   ]
  },
  {
   "cell_type": "code",
   "execution_count": null,
   "metadata": {},
   "outputs": [],
   "source": [
    "RE(collect_white_field)\n",
    "RE(collect_projection)\n",
    "RE(collect_white_field)\n",
    "RE(collect_dark_field)"
   ]
  },
  {
   "cell_type": "code",
   "execution_count": null,
   "metadata": {},
   "outputs": [],
   "source": []
  },
  {
   "cell_type": "code",
   "execution_count": null,
   "metadata": {},
   "outputs": [],
   "source": []
  },
  {
   "cell_type": "code",
   "execution_count": null,
   "metadata": {},
   "outputs": [],
   "source": []
  },
  {
   "cell_type": "code",
   "execution_count": null,
   "metadata": {},
   "outputs": [],
   "source": []
  },
  {
   "cell_type": "code",
   "execution_count": null,
   "metadata": {},
   "outputs": [],
   "source": []
  }
 ],
 "metadata": {
  "kernelspec": {
   "display_name": "Python 3",
   "language": "python",
   "name": "python3"
  },
  "language_info": {
   "codemirror_mode": {
    "name": "ipython",
    "version": 3
   },
   "file_extension": ".py",
   "mimetype": "text/x-python",
   "name": "python",
   "nbconvert_exporter": "python",
   "pygments_lexer": "ipython3",
   "version": "3.6.8"
  }
 },
 "nbformat": 4,
 "nbformat_minor": 2
}
