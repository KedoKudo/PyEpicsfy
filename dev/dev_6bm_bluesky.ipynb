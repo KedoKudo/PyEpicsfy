{
 "cells": [
  {
   "cell_type": "markdown",
   "metadata": {},
   "source": [
    "# Overview\n",
    "\n",
    "This notebook is the development notes for using `bluesky` and `apstools` to conduct Tomography experiment at 6BM-A at the advanced photon source.\n",
    "\n",
    "The notebook contains the following sections:\n",
    "* preparation\n",
    "    * installation and configuration of `bluesky`+`apstools` for 6BM-A\n",
    "        * package installation\n",
    "        * meta-data broker configuration\n",
    "    * user-define functions that is useful for the tomography experiment\n",
    "* device declaration: declare `ophyd` interface for `Epics` devices\n",
    "    * device initilization\n",
    "* tomography experiment\n",
    "    * plan generation\n",
    "    * dry-run\n",
    "    * connect to devices for experiment"
   ]
  },
  {
   "cell_type": "markdown",
   "metadata": {},
   "source": [
    "# Preparation"
   ]
  },
  {
   "cell_type": "markdown",
   "metadata": {},
   "source": [
    "Install with `pip`\n",
    "------------------\n",
    "\n",
    "__WARNING__: it is recommended to use conda to install bluesky related pacakge from now.\n",
    "\n",
    "Install `bluesky` and `apstools` with `pip` (not recommended due to dependency issues):\n",
    "\n",
    "```bash\n",
    "pip install -U pip\n",
    "pip install boltons mongoquery pims pyepics pyRestTable tzlocal jupyter suitcase matplotlib\n",
    "pip install git+https://github.com/Nikea/historydict#egg=historydict \\\n",
    "            git+https://github.com/NSLS-II/amostra#egg=amostra \\\n",
    "            git+https://github.com/NSLS-II/bluesky#egg=bluesky \\\n",
    "            git+https://github.com/NSLS-II/databroker#egg=databroker \\\n",
    "            git+https://github.com/NSLS-II/doct#egg=doct \\\n",
    "            git+https://github.com/NSLS-II/event-model#egg=event_model \\\n",
    "            git+https://github.com/NSLS-II/ophyd#egg=ophyd \\\n",
    "            git+https://github.com/NSLS-II/hklpy#egg=hklpy\n",
    "pip install apstools\n",
    "```"
   ]
  },
  {
   "cell_type": "markdown",
   "metadata": {},
   "source": [
    "Install with `conda`\n",
    "--------------------\n",
    "\n",
    "Install bluesky core packages first\n",
    "```bash\n",
    "conda install bluesky -c lightsource2-tag\n",
    "```\n",
    "\n",
    "then the apstools dependencies\n",
    "```bash\n",
    "conda install pyresttable -c prjemian\n",
    "```\n",
    "\n",
    "followed by installing apstools\n",
    "```bash\n",
    "conda install apstools -c aps-anl-dev\n",
    "```\n",
    "\n",
    "To avoid the warning/runtime-error when running RE, it is recommended to add a file named __pinned__ to the _conda-meta/_ dierectory for given environment with the following content\n",
    "```shell\n",
    "tornado<5\n",
    "```\n",
    "followed by update the tornado package through conda using \n",
    "```bash\n",
    "conda update tornado\n",
    "```\n",
    "\n",
    "> If the command above does not downgrade tornado properly, one can use `conda install tornado==4.5.3` to force reinstall a lower version.\n",
    "\n",
    "Finally, install jupyter and matplotlib\n",
    "```bash\n",
    "conda install jupyter matplotlib\n",
    "```"
   ]
  },
  {
   "cell_type": "markdown",
   "metadata": {},
   "source": [
    "Then configure MongoDB for meta-data handling\n",
    "\n",
    "The following YAML config file should be place under `~/.config/` to use MongoDB as meta-data handler.\n",
    "\n",
    "```yml\n",
    "# ~/.config/databroker/mongodb_config.yml\n",
    "\n",
    "description: 'heavyweight shared database'\n",
    "metadatastore:\n",
    "   module: 'databroker.headersource.mongo'\n",
    "   class: 'MDS'\n",
    "   config:\n",
    "       host: 'otz.aps.anl.gov'\n",
    "       port: 27017\n",
    "       database: 'metadatastore-production-v1'\n",
    "       timezone: 'US/Central'\n",
    "assets:\n",
    "   module: 'databroker.assets.mongo'\n",
    "   class: 'Registry'\n",
    "   config:\n",
    "       host: 'otz.aps.anl.gov'\n",
    "       port: 27017\n",
    "       database: 'filestore-production-v1'\n",
    "```"
   ]
  },
  {
   "cell_type": "code",
   "execution_count": 1,
   "metadata": {},
   "outputs": [
    {
     "name": "stderr",
     "output_type": "stream",
     "text": [
      "/home/beams/S6BM/opt/miniconda3/envs/bluesky_py36/lib/python3.6/site-packages/databroker/_core.py:962: YAMLLoadWarning: calling yaml.load() without Loader=... is deprecated, as the default Loader is unsafe. Please read https://msg.pyyaml.org/load for full details.\n",
      "  return yaml.load(f)\n"
     ]
    },
    {
     "data": {
      "text/plain": [
       "1"
      ]
     },
     "execution_count": 1,
     "metadata": {},
     "output_type": "execute_result"
    }
   ],
   "source": [
    "# initialize the data base\n",
    "from databroker import Broker\n",
    "db = Broker.named(\"mongodb_config\")\n",
    "\n",
    "# subscribe both mongodb and callback to runtime engine\n",
    "import bluesky\n",
    "from bluesky import RunEngine\n",
    "from bluesky.callbacks.best_effort import BestEffortCallback\n",
    "\n",
    "RE = RunEngine({})\n",
    "RE.subscribe(db.insert)\n",
    "RE.subscribe(BestEffortCallback())"
   ]
  },
  {
   "cell_type": "code",
   "execution_count": 2,
   "metadata": {},
   "outputs": [
    {
     "data": {
      "text/plain": [
       "'s6bm'"
      ]
     },
     "execution_count": 2,
     "metadata": {},
     "output_type": "execute_result"
    }
   ],
   "source": [
    "import socket\n",
    "import getpass\n",
    "\n",
    "socket.gethostname()\n",
    "getpass.getuser()"
   ]
  },
  {
   "cell_type": "code",
   "execution_count": 3,
   "metadata": {},
   "outputs": [],
   "source": [
    "# metadata for diagnostics\n",
    "\n",
    "from datetime import datetime\n",
    "import apstools\n",
    "import ophyd\n",
    "import socket\n",
    "import getpass\n",
    "\n",
    "HOSTNAME = socket.gethostname() #or 'localhost'\n",
    "USERNAME = getpass.getuser() #or '6-BM-A user'\n",
    "RE.md['beamline_id'] = '6-BM tomo test'\n",
    "RE.md['login_id'] = USERNAME + '@' + HOSTNAME\n",
    "RE.md['BLUESKY_VERSION'] = bluesky.__version__\n",
    "RE.md['OPHYD_VERSION'] = ophyd.__version__\n",
    "RE.md['apstools_VERSION'] = apstools.__version__\n",
    "RE.md['SESSION_STARTED'] = datetime.isoformat(datetime.now(), \" \")"
   ]
  },
  {
   "cell_type": "code",
   "execution_count": 4,
   "metadata": {},
   "outputs": [
    {
     "name": "stdout",
     "output_type": "stream",
     "text": [
      "ApsMachineParametersDevice(prefix='', name='APS', read_attrs=['current', 'lifetime', 'machine_status', 'operating_mode', 'shutter_permit', 'fill_number', 'orbit_correction', 'global_feedback', 'global_feedback_h', 'global_feedback_v', 'operator_messages', 'operator_messages.operators', 'operator_messages.floor_coordinator', 'operator_messages.fill_pattern', 'operator_messages.last_problem_message', 'operator_messages.last_trip_message', 'operator_messages.message6', 'operator_messages.message7', 'operator_messages.message8'], configuration_attrs=['operator_messages'])\n"
     ]
    }
   ],
   "source": [
    "# user defined function goes here\n",
    "from pprint import pprint\n",
    "\n",
    "\n",
    "# 1. checking the APS beam status\n",
    "import apstools.devices as APS_devices\n",
    "\n",
    "aps = APS_devices.ApsMachineParametersDevice(name=\"APS\")\n",
    "\n",
    "pprint(aps)"
   ]
  },
  {
   "cell_type": "markdown",
   "metadata": {},
   "source": [
    "Now from the hardware end, we need additional setup IOC (soft) for this status, recommended method `VME`\n",
    "\n",
    "Here is a quick example from 2BM\n",
    "```python\n",
    "instrument_in_use = EpicsSignalRO(\n",
    "    \"2bm:instrument_in_use\", \n",
    "    name=\"instrument_in_use\")\n",
    "\n",
    "def operations_in_2bmb():\n",
    "    \"\"\"returns True if allowed to use X-ray beam in 2-BM-B station\"\"\"\n",
    "    v = instrument_in_use.value\n",
    "    enums = instrument_in_use.enum_strs\n",
    "    return enums[v] == \"2-BM-B\"\n",
    "```"
   ]
  },
  {
   "cell_type": "code",
   "execution_count": 5,
   "metadata": {},
   "outputs": [],
   "source": [
    "# 2. assume we have the same setup describe above\n",
    "\n",
    "from ophyd import EpicsSignalRO\n",
    "\n",
    "instrument_in_use = EpicsSignalRO(\"6bm:instrument_in_use\", name=\"instrument_in_use\")\n",
    "\n",
    "RE.md['INSTRUMENT_IN_USE'] = instrument_in_use.value"
   ]
  },
  {
   "cell_type": "code",
   "execution_count": 6,
   "metadata": {},
   "outputs": [
    {
     "name": "stdout",
     "output_type": "stream",
     "text": [
      "EpicsSignalRO(read_pv='6bm:instrument_in_use', name='instrument_in_use', value=1, timestamp=1554729382.179483, auto_monitor=False, string=False)\n"
     ]
    }
   ],
   "source": [
    "print(instrument_in_use)"
   ]
  },
  {
   "cell_type": "code",
   "execution_count": 7,
   "metadata": {},
   "outputs": [],
   "source": [
    "# 3. check ambien light in hutch\n",
    "import apstools.synApps_ophyd\n",
    "\n",
    "# grab all calcs\n",
    "calcs = apstools.synApps_ophyd.userCalcsDevice(\"6bma1:\", name=\"calcs\")\n",
    "\n",
    "# calc1.ch8 is ambient light checker\n",
    "#calc1 = calcs.calc1\n",
    "hutch_light_on = bool(calcs.calc1.val.value)"
   ]
  },
  {
   "cell_type": "code",
   "execution_count": 8,
   "metadata": {},
   "outputs": [
    {
     "name": "stdout",
     "output_type": "stream",
     "text": [
      "1.0 True\n"
     ]
    }
   ],
   "source": [
    "print(calcs.calc1.val.value ,hutch_light_on)"
   ]
  },
  {
   "cell_type": "code",
   "execution_count": 9,
   "metadata": {},
   "outputs": [],
   "source": [
    "apstools.synApps_ophyd.userCalcsDevice??"
   ]
  },
  {
   "cell_type": "code",
   "execution_count": 10,
   "metadata": {},
   "outputs": [],
   "source": [
    "# 4. define the ENV VAR denote the experiment nature\n",
    "# NOTE:\n",
    "#    the return value of instrument_in_use is not yet decided\n",
    "\n",
    "# conducting experiment mode\n",
    "in_production = aps.inUserOperations \\\n",
    "            and (instrument_in_use.value in (1, \"6-BM-A\")) \\\n",
    "            and (not hutch_light_on)\n",
    "\n",
    "# testing mode, supercede in_production\n",
    "in_dryrun = True"
   ]
  },
  {
   "cell_type": "code",
   "execution_count": 11,
   "metadata": {},
   "outputs": [
    {
     "name": "stdout",
     "output_type": "stream",
     "text": [
      "False False\n"
     ]
    }
   ],
   "source": [
    "print(in_production, aps.inUserOperations)"
   ]
  },
  {
   "cell_type": "markdown",
   "metadata": {},
   "source": [
    "# Device declaration"
   ]
  },
  {
   "cell_type": "code",
   "execution_count": 12,
   "metadata": {},
   "outputs": [],
   "source": [
    "# necessary import\n",
    "import apstools.devices as APS_devices"
   ]
  },
  {
   "cell_type": "markdown",
   "metadata": {},
   "source": [
    "## shutter"
   ]
  },
  {
   "cell_type": "code",
   "execution_count": 13,
   "metadata": {},
   "outputs": [
    {
     "name": "stdout",
     "output_type": "stream",
     "text": [
      "data keys (* hints)\n",
      "-------------------\n",
      " A_shutter_busy\n",
      " A_shutter_close_signal\n",
      " A_shutter_open_signal\n",
      " A_shutter_pss_state\n",
      "\n",
      "read attrs\n",
      "----------\n",
      "busy                 Signal              ('A_shutter_busy')\n",
      "open_signal          Signal              ('A_shutter_open_signal')\n",
      "close_signal         Signal              ('A_shutter_close_signal')\n",
      "pss_state            Signal              ('A_shutter_pss_state')\n",
      "\n",
      "config keys\n",
      "-----------\n",
      "\n",
      "configuration attrs\n",
      "-------------------\n",
      "\n",
      "unused attrs\n",
      "------------\n",
      "\n"
     ]
    }
   ],
   "source": [
    "\n",
    "if in_production:\n",
    "    # define the real shutter used at 6BMA@APS\n",
    "    # NOTE: \n",
    "    #   this requires connection to the hardware, otherwise a connection error will be raised\n",
    "\n",
    "    A_shutter = APS_devices.ApsPssShutterWithStatus(\n",
    "            \"6bmb1:rShtrA\",\n",
    "            \"PA:06BM:STA_A_FES_OPEN_PL\",\n",
    "            name=\"A_shutter\",\n",
    "        )\n",
    "    \n",
    "    # no scans until A_shutter is open\n",
    "    suspend_A_shutter = bluesky.suspenders.SuspendFloor(A_shutter.pss_state, 1)\n",
    "    #suspend_A_shutter.install(RE)\n",
    "    RE.install_suspender(suspend_A_shutter)\n",
    "    \n",
    "    # no scans if aps.current is too low\n",
    "    suspend_APS_current = bluesky.suspenders.SuspendFloor(aps.current, 2, resume_thresh=10)\n",
    "    RE.install_suspender(suspend_APS_current)\n",
    "\n",
    "else:\n",
    "    # first, a simulated shutter to demonstrate the design of epics controled shutter\n",
    "\n",
    "    A_shutter = APS_devices.SimulatedApsPssShutterWithStatus(name=\"A_shutter\")\n",
    "\n",
    "    A_shutter.summary()"
   ]
  },
  {
   "cell_type": "code",
   "execution_count": 14,
   "metadata": {},
   "outputs": [
    {
     "data": {
      "text/plain": [
       "False"
      ]
     },
     "execution_count": 14,
     "metadata": {},
     "output_type": "execute_result"
    }
   ],
   "source": [
    "A_shutter.isOpen"
   ]
  },
  {
   "cell_type": "markdown",
   "metadata": {},
   "source": [
    "To open a shutter, use `A_shutter.open`. \n",
    "Similarly, the shutter can be closed with `A_shutter.close`.\n",
    "One can also check the current status of the shutter using `A_shutter.isOpen`."
   ]
  },
  {
   "cell_type": "markdown",
   "metadata": {},
   "source": [
    "## area detector"
   ]
  },
  {
   "cell_type": "code",
   "execution_count": 77,
   "metadata": {},
   "outputs": [
    {
     "name": "stdout",
     "output_type": "stream",
     "text": [
      "Y:\\2019-1\\internal_apr19\\tomo\\tester\n",
      "tester\n"
     ]
    }
   ],
   "source": [
    "import os\n",
    "import datetime\n",
    "from pathlib import Path, PureWindowsPath\n",
    "\n",
    "# production control ENV vars\n",
    "ADPV_prefix = \"1idPG2\"   # AreaDetector prefix\n",
    "# OUTPUT_ROOT = \"/home/beams/S6BM/user_data\"\n",
    "OUTPUT_ROOT = \"Y:\\\\\"\n",
    "\n",
    "# -----------------------\n",
    "# -- user config block --\n",
    "# -----------------------\n",
    "CYCLE = \"2019-1\"\n",
    "EXPID = \"internal_apr19\"\n",
    "USER  = EXPID\n",
    "SAMPLE = \"tester\"\n",
    "\n",
    "FILE_PATH = str(PureWindowsPath(Path(\"/\".join([OUTPUT_ROOT, CYCLE, EXPID, \"tomo\", SAMPLE])+\"/\")))\n",
    "# FILE_PATH =  os.path.join(OUTPUT_ROOT, CYCLE, EXPID, \"tomo\", SAMPLE) + os\n",
    "FILE_PREFIX = SAMPLE\n",
    "\n",
    "# show where files will be stored\n",
    "print(FILE_PATH)\n",
    "print(FILE_PREFIX)"
   ]
  },
  {
   "cell_type": "code",
   "execution_count": 78,
   "metadata": {},
   "outputs": [],
   "source": [
    "# As of today, there is still no support for Python class enclosure, so we have to make a class for the detector\n",
    "from ophyd import AreaDetector\n",
    "from ophyd import SingleTrigger\n",
    "from ophyd import ADComponent\n",
    "from ophyd import PointGreyDetectorCam\n",
    "from ophyd import ProcessPlugin\n",
    "from ophyd import TIFFPlugin\n",
    "from ophyd import sim\n",
    "\n",
    "# class PointGreyDetectorCam6BM(PointGreyDetectorCam):\n",
    "#     \"\"\"Extend the default Point Grey detector cam\"\"\"\n",
    "#     frame_rate_on_off = ADComponent(EpicsSignalWithRBV, \"FrameRateOnOff\")\n",
    "\n",
    "\n",
    "class PointGreyDetector6BM(SingleTrigger, AreaDetector):\n",
    "    \"\"\"Point Gray area detector used at 6BM\"\"\"\n",
    "    # cam component\n",
    "    cam = ADComponent(PointGreyDetectorCam, \"cam1:\")\n",
    "    \n",
    "    # proc plugin\n",
    "    proc1 = ADComponent(ProcessPlugin, suffix=\"Proc1:\")\n",
    "    \n",
    "    # tiff plugin\n",
    "    tiff1 = ADComponent(\n",
    "        TIFFPlugin,\n",
    "        suffix=\"TIFF1:\",\n",
    "#         root=OUTPUT_ROOT,                       # for databroker\n",
    "#         write_path_template=FILE_PATH,          # for EPICS AD\n",
    "    )\n",
    "    \n",
    "\n",
    "# ------------------------------------\n",
    "# ----- Instantiate the detector ----- \n",
    "# ------------------------------------\n",
    "\n",
    "# Area Detector (AD) config block\n",
    "config_cam = {\n",
    "    \"num_images\":     1,           # number of images (nFrame)\n",
    "    \"image_mode\":     \"Multiple\",  #\n",
    "    \"trigger_mode\":   \"Internal\",  #\n",
    "    \"acquire_time\":   0.05,           # exposure time (fExposureTime)\n",
    "    \"acquire_period\": 0.05+0.01,      #\n",
    "    \"gain\":           5,           # detector gain [0~30]\n",
    "}\n",
    "\n",
    "config_proc1 = {\n",
    "    \"enable\":           1,  # toggle on proc1\n",
    "    \"enable_filter\":    1,  # enable filter\n",
    "    \"num_filter\":       5,  # change number_filtered in proc1 (same as nFrame)\n",
    "    \"reset_filter\":     1,  # reset number_filtered\n",
    "}\n",
    "\n",
    "config_tiff1 = {\n",
    "    \"nd_array_port\":    \"PROC1\",      # switch port for TIFF plugin\n",
    "    \"file_write_mode\":  \"Stream\",     # change write mode\n",
    "    \"auto_save\":        \"Yes\",        # turn on file save\n",
    "    \"file_path\":        FILE_PATH,    # set file path\n",
    "    \"file_name\":        FILE_PREFIX,  # img name prefix\n",
    "}\n",
    "\n",
    "\n",
    "if in_production or in_dryrun:\n",
    "    pg2_det = PointGreyDetector6BM(\"1idPG2:\", name='pg2_det')\n",
    "    \n",
    "    # catch timeout error in case detector not responding\n",
    "    try:\n",
    "        for k, v in config_cam.items():     pg2_det.cam.stage_sigs[k]   = v\n",
    "        for k, v in config_proc1.items():   pg2_det.proc1.stage_sigs[k] = v\n",
    "        for k, v in config_tiff1.items():   pg2_det.tiff1.stage_sigs[k] = v\n",
    "    except TimeoutError as _exc:\n",
    "        print(f\"{_exc}\\n !! Could not connect with area detector {pg2_det}\")\n",
    "else:\n",
    "    pg2_det = sim.noisy_det  # use ophyd simulated detector"
   ]
  },
  {
   "cell_type": "code",
   "execution_count": 79,
   "metadata": {},
   "outputs": [],
   "source": [
    "pg2_det.tiff1.file_path.put(FILE_PATH)"
   ]
  },
  {
   "cell_type": "markdown",
   "metadata": {},
   "source": [
    "## motor"
   ]
  },
  {
   "cell_type": "code",
   "execution_count": 19,
   "metadata": {},
   "outputs": [],
   "source": [
    "from ophyd import MotorBundle\n",
    "from ophyd import Component\n",
    "from ophyd import EpicsMotor\n",
    "\n",
    "# NOTE: \n",
    "#    the PV for actual motors is still unknown\n",
    "class TomoStage(MotorBundle):\n",
    "    #rotation\n",
    "    preci = Component(EpicsMotor, \"6bmpreci:m1\",\n",
    "                      name='preci',\n",
    "                     )\n",
    "    \n",
    "    samX = Component(EpicsMotor, \"6bma1:m19\",\n",
    "                     name='samX',\n",
    "                    )\n",
    "    \n",
    "    samY = Component(EpicsMotor, \"6bma1:m18\",\n",
    "                     name=\"samY\",\n",
    "                    )\n",
    "\n",
    "if in_production or in_dryrun:\n",
    "    tomostage = TomoStage(name='tomostage')\n",
    "\n",
    "    samx  = tomostage.samX\n",
    "    samy  = tomostage.samY\n",
    "    preci = tomostage.preci\n",
    "\n",
    "else:\n",
    "    tomostage = MotorBundle()\n",
    "    tomostage.preci = sim.motor\n",
    "    tomostage.samX = sim.motor\n",
    "    tomostage.samY = sim.motor\n"
   ]
  },
  {
   "cell_type": "code",
   "execution_count": null,
   "metadata": {},
   "outputs": [],
   "source": [
    "preci.move(0)"
   ]
  },
  {
   "cell_type": "markdown",
   "metadata": {},
   "source": [
    "# Tomography experiment"
   ]
  },
  {
   "cell_type": "markdown",
   "metadata": {},
   "source": [
    "## Scan plans\n",
    "\n",
    "Define the scan parameters within plan functions"
   ]
  },
  {
   "cell_type": "code",
   "execution_count": 22,
   "metadata": {},
   "outputs": [],
   "source": [
    "import bluesky.plans as bp\n",
    "import bluesky.plan_stubs as bps\n",
    "import numpy as np\n",
    "\n",
    "# ---------------------------\n",
    "# ----- Scan parameters -----\n",
    "# ---------------------------\n",
    "n_white    = 10\n",
    "n_dark     = 10\n",
    "samOutDist = -2.00                           # mm\n",
    "omega_step = 0.25                            # degrees\n",
    "time_wait  = 1                            # s\n",
    "omega_start = 0\n",
    "omega_end   = 5 \n",
    "number_of_projections = int(abs(omega_end-omega_start)/omega_step)+1  # 0 ~ 180\n",
    "\n",
    "\n",
    "def check_images_n():\n",
    "    return True\n",
    "    while (pg2_det.tiff1.num_captured.value < n_white): \n",
    "        yield from bps.sleep(time_wait)\n",
    "        \n",
    "    \n",
    "def collect_white_field():\n",
    "    \"\"\"collect 10 white field images before and after tomo scan\"\"\"\n",
    "    yield from bps.mv(\n",
    "        A_shutter,              \"open\", \n",
    "#         pg2_det.cam.trigger_mode,   \"Internal\",\n",
    "#         pg2_det.cam.num_images,     n_white,\n",
    "#         pg2_det.proc1.reset_filter, 1,\n",
    "    )\n",
    "    \n",
    "    yield from bps.trigger(pg2_det)\n",
    "    \n",
    "    yield from check_images_n()\n",
    "\n",
    "\n",
    "def collect_dark_field():\n",
    "    \"\"\"collect 10 dark field images after tomo scan\"\"\"\n",
    "    \n",
    "    yield from bps.mv(\n",
    "        A_shutter,              \"close\", \n",
    "#         pg2_det.cam.trigger_mode,   \"Internal\",\n",
    "#         pg2_det.cam.num_images,     n_dark,\n",
    "#         pg2_det.proc1.reset_filter, 1,\n",
    "    )\n",
    "    \n",
    "    yield from bps.trigger(pg2_det)\n",
    "    \n",
    "    yield from check_images_n()\n",
    "    \n",
    "    \n",
    "def collect_projection():\n",
    "    \"\"\"tomo scna\"\"\"\n",
    "    yield from bp.scan(\n",
    "        [pg2_det], \n",
    "        preci, omega_start, omega_end, number_of_projections,\n",
    "        per_step=bps.sleep(time_wait),\n",
    "    )\n",
    "    \n",
    "def tomo_scan():\n",
    "    # white field images\n",
    "    current_samx = samx.position\n",
    "    yield from bps.mv( samx, current_samx+samOutDist)\n",
    "    yield from collect_white_field()\n",
    "    yield from bps.mv( samx, current_samx)\n",
    "    \n",
    "    # proections\n",
    "    # NOTE:\n",
    "    #   use bps.sleep to semi-pause scan\n",
    "    yield from collect_projection()\n",
    "#     for i in np.arange(omega_start, omega_end, omega_step):\n",
    "#         yield from bp.scan( [pg2_det], preci, i, i+omega_step, 1)\n",
    "#         yield from bps.sleep(time_wait)\n",
    "    \n",
    "    # white field images\n",
    "    yield from bps.mv( samx, current_samx-samOutDist)\n",
    "    yield from collect_white_field()\n",
    "    yield from bps.mv( samx, current_samx)\n",
    "    \n",
    "    # dark field images\n",
    "    yield from collect_dark_field()\n"
   ]
  },
  {
   "cell_type": "markdown",
   "metadata": {},
   "source": [
    "## Scan plan pruning prior to execution\n",
    "\n",
    "Use the `summarize_plan` feature from bluesky to perform sanity check on the tomo scan plan"
   ]
  },
  {
   "cell_type": "code",
   "execution_count": 24,
   "metadata": {},
   "outputs": [
    {
     "name": "stdout",
     "output_type": "stream",
     "text": [
      "tomostage_samX -> -2.0\n",
      "A_shutter -> open\n",
      "tomostage_samX -> 0.0\n",
      "=================================== Open Run ===================================\n",
      "tomostage_preci -> 0.0\n",
      "  Read ['noisy_det', 'tomostage_preci']\n",
      "================================== Close Run ===================================\n",
      "=================================== Open Run ===================================\n",
      "tomostage_preci -> 0.25\n",
      "  Read ['noisy_det', 'tomostage_preci']\n",
      "================================== Close Run ===================================\n",
      "=================================== Open Run ===================================\n",
      "tomostage_preci -> 0.5\n",
      "  Read ['noisy_det', 'tomostage_preci']\n",
      "================================== Close Run ===================================\n",
      "=================================== Open Run ===================================\n",
      "tomostage_preci -> 0.75\n",
      "  Read ['noisy_det', 'tomostage_preci']\n",
      "================================== Close Run ===================================\n",
      "=================================== Open Run ===================================\n",
      "tomostage_preci -> 1.0\n",
      "  Read ['noisy_det', 'tomostage_preci']\n",
      "================================== Close Run ===================================\n",
      "=================================== Open Run ===================================\n",
      "tomostage_preci -> 1.25\n",
      "  Read ['noisy_det', 'tomostage_preci']\n",
      "================================== Close Run ===================================\n",
      "=================================== Open Run ===================================\n",
      "tomostage_preci -> 1.5\n",
      "  Read ['noisy_det', 'tomostage_preci']\n",
      "================================== Close Run ===================================\n",
      "=================================== Open Run ===================================\n",
      "tomostage_preci -> 1.75\n",
      "  Read ['noisy_det', 'tomostage_preci']\n",
      "================================== Close Run ===================================\n",
      "=================================== Open Run ===================================\n",
      "tomostage_preci -> 2.0\n",
      "  Read ['noisy_det', 'tomostage_preci']\n",
      "================================== Close Run ===================================\n",
      "=================================== Open Run ===================================\n",
      "tomostage_preci -> 2.25\n",
      "  Read ['noisy_det', 'tomostage_preci']\n",
      "================================== Close Run ===================================\n",
      "=================================== Open Run ===================================\n",
      "tomostage_preci -> 2.5\n",
      "  Read ['noisy_det', 'tomostage_preci']\n",
      "================================== Close Run ===================================\n",
      "=================================== Open Run ===================================\n",
      "tomostage_preci -> 2.75\n",
      "  Read ['noisy_det', 'tomostage_preci']\n",
      "================================== Close Run ===================================\n",
      "=================================== Open Run ===================================\n",
      "tomostage_preci -> 3.0\n",
      "  Read ['noisy_det', 'tomostage_preci']\n",
      "================================== Close Run ===================================\n",
      "=================================== Open Run ===================================\n",
      "tomostage_preci -> 3.25\n",
      "  Read ['noisy_det', 'tomostage_preci']\n",
      "================================== Close Run ===================================\n",
      "=================================== Open Run ===================================\n",
      "tomostage_preci -> 3.5\n",
      "  Read ['noisy_det', 'tomostage_preci']\n",
      "================================== Close Run ===================================\n",
      "=================================== Open Run ===================================\n",
      "tomostage_preci -> 3.75\n",
      "  Read ['noisy_det', 'tomostage_preci']\n",
      "================================== Close Run ===================================\n",
      "=================================== Open Run ===================================\n",
      "tomostage_preci -> 4.0\n",
      "  Read ['noisy_det', 'tomostage_preci']\n",
      "================================== Close Run ===================================\n",
      "=================================== Open Run ===================================\n",
      "tomostage_preci -> 4.25\n",
      "  Read ['noisy_det', 'tomostage_preci']\n",
      "================================== Close Run ===================================\n",
      "=================================== Open Run ===================================\n",
      "tomostage_preci -> 4.5\n",
      "  Read ['noisy_det', 'tomostage_preci']\n",
      "================================== Close Run ===================================\n",
      "=================================== Open Run ===================================\n",
      "tomostage_preci -> 4.75\n",
      "  Read ['noisy_det', 'tomostage_preci']\n",
      "================================== Close Run ===================================\n",
      "tomostage_samX -> 2.0\n",
      "A_shutter -> open\n",
      "tomostage_samX -> 0.0\n",
      "A_shutter -> close\n"
     ]
    }
   ],
   "source": [
    "from bluesky.simulators import summarize_plan\n",
    "\n",
    "summarize_plan(tomo_scan())"
   ]
  },
  {
   "cell_type": "markdown",
   "metadata": {},
   "source": [
    "## Excuete plans"
   ]
  },
  {
   "cell_type": "code",
   "execution_count": 25,
   "metadata": {
    "scrolled": false
   },
   "outputs": [
    {
     "ename": "RuntimeError",
     "evalue": "This event loop is already running",
     "output_type": "error",
     "traceback": [
      "\u001b[0;31m---------------------------------------------------------------------------\u001b[0m",
      "\u001b[0;31mRuntimeError\u001b[0m                              Traceback (most recent call last)",
      "\u001b[0;32m<ipython-input-25-c82d01e9e2c2>\u001b[0m in \u001b[0;36m<module>\u001b[0;34m\u001b[0m\n\u001b[0;32m----> 1\u001b[0;31m \u001b[0mRE\u001b[0m\u001b[0;34m(\u001b[0m\u001b[0mtomo_scan\u001b[0m\u001b[0;34m(\u001b[0m\u001b[0;34m)\u001b[0m\u001b[0;34m)\u001b[0m\u001b[0;34m\u001b[0m\u001b[0;34m\u001b[0m\u001b[0m\n\u001b[0m",
      "\u001b[0;32m~/opt/miniconda3/envs/bluesky_py36/lib/python3.6/site-packages/bluesky/run_engine.py\u001b[0m in \u001b[0;36m__call__\u001b[0;34m(self, *args, **metadata_kw)\u001b[0m\n\u001b[1;32m    743\u001b[0m             \u001b[0mself\u001b[0m\u001b[0;34m.\u001b[0m\u001b[0mlog\u001b[0m\u001b[0;34m.\u001b[0m\u001b[0minfo\u001b[0m\u001b[0;34m(\u001b[0m\u001b[0;34m\"Executing plan %r\"\u001b[0m\u001b[0;34m,\u001b[0m \u001b[0mself\u001b[0m\u001b[0;34m.\u001b[0m\u001b[0m_plan\u001b[0m\u001b[0;34m)\u001b[0m\u001b[0;34m\u001b[0m\u001b[0;34m\u001b[0m\u001b[0m\n\u001b[1;32m    744\u001b[0m             \u001b[0;32mtry\u001b[0m\u001b[0;34m:\u001b[0m\u001b[0;34m\u001b[0m\u001b[0;34m\u001b[0m\u001b[0m\n\u001b[0;32m--> 745\u001b[0;31m                 \u001b[0mself\u001b[0m\u001b[0;34m.\u001b[0m\u001b[0mloop\u001b[0m\u001b[0;34m.\u001b[0m\u001b[0mrun_forever\u001b[0m\u001b[0;34m(\u001b[0m\u001b[0;34m)\u001b[0m\u001b[0;34m\u001b[0m\u001b[0;34m\u001b[0m\u001b[0m\n\u001b[0m\u001b[1;32m    746\u001b[0m             \u001b[0;32mfinally\u001b[0m\u001b[0;34m:\u001b[0m\u001b[0;34m\u001b[0m\u001b[0;34m\u001b[0m\u001b[0m\n\u001b[1;32m    747\u001b[0m                 \u001b[0;32mif\u001b[0m \u001b[0mself\u001b[0m\u001b[0;34m.\u001b[0m\u001b[0m_task\u001b[0m\u001b[0;34m.\u001b[0m\u001b[0mdone\u001b[0m\u001b[0;34m(\u001b[0m\u001b[0;34m)\u001b[0m\u001b[0;34m:\u001b[0m\u001b[0;34m\u001b[0m\u001b[0;34m\u001b[0m\u001b[0m\n",
      "\u001b[0;32m~/opt/miniconda3/envs/bluesky_py36/lib/python3.6/asyncio/base_events.py\u001b[0m in \u001b[0;36mrun_forever\u001b[0;34m(self)\u001b[0m\n\u001b[1;32m    412\u001b[0m         \u001b[0mself\u001b[0m\u001b[0;34m.\u001b[0m\u001b[0m_check_closed\u001b[0m\u001b[0;34m(\u001b[0m\u001b[0;34m)\u001b[0m\u001b[0;34m\u001b[0m\u001b[0;34m\u001b[0m\u001b[0m\n\u001b[1;32m    413\u001b[0m         \u001b[0;32mif\u001b[0m \u001b[0mself\u001b[0m\u001b[0;34m.\u001b[0m\u001b[0mis_running\u001b[0m\u001b[0;34m(\u001b[0m\u001b[0;34m)\u001b[0m\u001b[0;34m:\u001b[0m\u001b[0;34m\u001b[0m\u001b[0;34m\u001b[0m\u001b[0m\n\u001b[0;32m--> 414\u001b[0;31m             \u001b[0;32mraise\u001b[0m \u001b[0mRuntimeError\u001b[0m\u001b[0;34m(\u001b[0m\u001b[0;34m'This event loop is already running'\u001b[0m\u001b[0;34m)\u001b[0m\u001b[0;34m\u001b[0m\u001b[0;34m\u001b[0m\u001b[0m\n\u001b[0m\u001b[1;32m    415\u001b[0m         \u001b[0;32mif\u001b[0m \u001b[0mevents\u001b[0m\u001b[0;34m.\u001b[0m\u001b[0m_get_running_loop\u001b[0m\u001b[0;34m(\u001b[0m\u001b[0;34m)\u001b[0m \u001b[0;32mis\u001b[0m \u001b[0;32mnot\u001b[0m \u001b[0;32mNone\u001b[0m\u001b[0;34m:\u001b[0m\u001b[0;34m\u001b[0m\u001b[0;34m\u001b[0m\u001b[0m\n\u001b[1;32m    416\u001b[0m             raise RuntimeError(\n",
      "\u001b[0;31mRuntimeError\u001b[0m: This event loop is already running"
     ]
    },
    {
     "name": "stdout",
     "output_type": "stream",
     "text": [
      "Transient Scan ID: 1     Time: 2019-04-08 15:55:50\n",
      "Persistent Unique Scan ID: 'eaacdda6-b097-48ff-8ed0-67be3148415f'\n",
      "New stream: 'primary'\n",
      "+-----------+------------+-----------------+\n",
      "|   seq_num |       time | tomostage_preci |\n",
      "+-----------+------------+-----------------+\n",
      "|         1 | 15:55:52.0 |      0.00015256 |\n",
      "+-----------+------------+-----------------+\n",
      "generator scan ['eaacdda6'] (scan num: 1)\n",
      "\n",
      "\n",
      "\n",
      "Transient Scan ID: 2     Time: 2019-04-08 15:55:53\n",
      "Persistent Unique Scan ID: '638a6adf-b0de-4338-ac1b-9164ba0b18fb'\n",
      "New stream: 'primary'\n",
      "+-----------+------------+-----------------+\n",
      "|   seq_num |       time | tomostage_preci |\n",
      "+-----------+------------+-----------------+\n",
      "|         1 | 15:55:53.6 |      0.24951188 |\n",
      "+-----------+------------+-----------------+\n",
      "generator scan ['638a6adf'] (scan num: 2)\n",
      "\n",
      "\n",
      "\n",
      "Transient Scan ID: 3     Time: 2019-04-08 15:55:54\n",
      "Persistent Unique Scan ID: '1f3dcf8b-35fc-41ee-839c-dcca1531b9cc'\n",
      "New stream: 'primary'\n",
      "+-----------+------------+-----------------+\n",
      "|   seq_num |       time | tomostage_preci |\n",
      "+-----------+------------+-----------------+\n",
      "|         1 | 15:55:55.2 |      0.49978656 |\n",
      "+-----------+------------+-----------------+\n",
      "generator scan ['1f3dcf8b'] (scan num: 3)\n",
      "\n",
      "\n",
      "\n",
      "Transient Scan ID: 4     Time: 2019-04-08 15:55:56\n",
      "Persistent Unique Scan ID: 'f2434092-20ee-4d3e-9b30-59208f560210'\n",
      "New stream: 'primary'\n",
      "+-----------+------------+-----------------+\n",
      "|   seq_num |       time | tomostage_preci |\n",
      "+-----------+------------+-----------------+\n",
      "|         1 | 15:55:56.8 |      0.74967984 |\n",
      "+-----------+------------+-----------------+\n",
      "generator scan ['f2434092'] (scan num: 4)\n",
      "\n",
      "\n",
      "\n",
      "Transient Scan ID: 5     Time: 2019-04-08 15:55:57\n",
      "Persistent Unique Scan ID: 'e04fb6dd-2669-434a-8c0e-f8a3d930fd12'\n",
      "New stream: 'primary'\n",
      "+-----------+------------+-----------------+\n",
      "|   seq_num |       time | tomostage_preci |\n",
      "+-----------+------------+-----------------+\n",
      "|         1 | 15:55:58.4 |      0.99961126 |\n",
      "+-----------+------------+-----------------+\n",
      "generator scan ['e04fb6dd'] (scan num: 5)\n",
      "\n",
      "\n",
      "\n",
      "Transient Scan ID: 6     Time: 2019-04-08 15:55:59\n",
      "Persistent Unique Scan ID: 'faae1a72-5a55-43e8-98b8-90a1d7f26fa1'\n",
      "New stream: 'primary'\n",
      "+-----------+------------+-----------------+\n",
      "|   seq_num |       time | tomostage_preci |\n",
      "+-----------+------------+-----------------+\n",
      "|         1 | 15:56:00.0 |      1.24958082 |\n",
      "+-----------+------------+-----------------+\n",
      "generator scan ['faae1a72'] (scan num: 6)\n",
      "\n",
      "\n",
      "\n",
      "Transient Scan ID: 7     Time: 2019-04-08 15:56:01\n",
      "Persistent Unique Scan ID: 'd9ae86e9-508c-4c2f-8c86-2d1943d2ae23'\n",
      "New stream: 'primary'\n",
      "+-----------+------------+-----------------+\n",
      "|   seq_num |       time | tomostage_preci |\n",
      "+-----------+------------+-----------------+\n",
      "|         1 | 15:56:01.6 |      1.49970294 |\n",
      "+-----------+------------+-----------------+\n",
      "generator scan ['d9ae86e9'] (scan num: 7)\n",
      "\n",
      "\n",
      "\n",
      "Transient Scan ID: 8     Time: 2019-04-08 15:56:02\n",
      "Persistent Unique Scan ID: '1c6d5402-3a79-40c9-b000-2ca91e4798b8'\n",
      "New stream: 'primary'\n",
      "+-----------+------------+-----------------+\n",
      "|   seq_num |       time | tomostage_preci |\n",
      "+-----------+------------+-----------------+\n",
      "|         1 | 15:56:03.2 |      1.74951994 |\n",
      "+-----------+------------+-----------------+\n",
      "generator scan ['1c6d5402'] (scan num: 8)\n",
      "\n",
      "\n",
      "\n",
      "Transient Scan ID: 9     Time: 2019-04-08 15:56:04\n",
      "Persistent Unique Scan ID: 'cad3e6db-f7af-4c3c-9a4c-0f370265a1dd'\n",
      "New stream: 'primary'\n",
      "+-----------+------------+-----------------+\n",
      "|   seq_num |       time | tomostage_preci |\n",
      "+-----------+------------+-----------------+\n",
      "|         1 | 15:56:04.8 |      1.99975648 |\n",
      "+-----------+------------+-----------------+\n",
      "generator scan ['cad3e6db'] (scan num: 9)\n",
      "\n",
      "\n",
      "\n",
      "Transient Scan ID: 10     Time: 2019-04-08 15:56:05\n",
      "Persistent Unique Scan ID: '48645849-b5b5-4b1b-a8f8-2c77831c4a1c'\n",
      "New stream: 'primary'\n",
      "+-----------+------------+-----------------+\n",
      "|   seq_num |       time | tomostage_preci |\n",
      "+-----------+------------+-----------------+\n",
      "|         1 | 15:56:06.4 |      2.24961162 |\n",
      "+-----------+------------+-----------------+\n",
      "generator scan ['48645849'] (scan num: 10)\n",
      "\n",
      "\n",
      "\n",
      "Transient Scan ID: 11     Time: 2019-04-08 15:56:07\n",
      "Persistent Unique Scan ID: '6ef93ebf-7127-455c-bb80-2309519fd3dc'\n",
      "New stream: 'primary'\n",
      "+-----------+------------+-----------------+\n",
      "|   seq_num |       time | tomostage_preci |\n",
      "+-----------+------------+-----------------+\n",
      "|         1 | 15:56:08.0 |      2.49958118 |\n",
      "+-----------+------------+-----------------+\n",
      "generator scan ['6ef93ebf'] (scan num: 11)\n",
      "\n",
      "\n",
      "\n",
      "Transient Scan ID: 12     Time: 2019-04-08 15:56:09\n",
      "Persistent Unique Scan ID: 'eca7a64a-2604-4349-bb1d-1a57c228c880'\n",
      "New stream: 'primary'\n",
      "+-----------+------------+-----------------+\n",
      "|   seq_num |       time | tomostage_preci |\n",
      "+-----------+------------+-----------------+\n",
      "|         1 | 15:56:09.6 |      2.74974144 |\n",
      "+-----------+------------+-----------------+\n",
      "generator scan ['eca7a64a'] (scan num: 12)\n",
      "\n",
      "\n",
      "\n",
      "Transient Scan ID: 13     Time: 2019-04-08 15:56:10\n",
      "Persistent Unique Scan ID: '96fea3f3-8220-450b-a223-ff54d576b608'\n",
      "New stream: 'primary'\n",
      "+-----------+------------+-----------------+\n",
      "|   seq_num |       time | tomostage_preci |\n",
      "+-----------+------------+-----------------+\n",
      "|         1 | 15:56:11.2 |      2.99948216 |\n",
      "+-----------+------------+-----------------+\n",
      "generator scan ['96fea3f3'] (scan num: 13)\n",
      "\n",
      "\n",
      "\n",
      "Transient Scan ID: 14     Time: 2019-04-08 15:56:12\n",
      "Persistent Unique Scan ID: '068f6e36-eabd-4803-8e1f-493e4f3527eb'\n",
      "New stream: 'primary'\n",
      "+-----------+------------+-----------------+\n",
      "|   seq_num |       time | tomostage_preci |\n",
      "+-----------+------------+-----------------+\n",
      "|         1 | 15:56:12.8 |      3.24937544 |\n",
      "+-----------+------------+-----------------+\n",
      "generator scan ['068f6e36'] (scan num: 14)\n",
      "\n",
      "\n",
      "\n",
      "Transient Scan ID: 15     Time: 2019-04-08 15:56:13\n",
      "Persistent Unique Scan ID: 'de878aa8-6864-4b1d-90dc-d069747b3ec7'\n",
      "New stream: 'primary'\n",
      "+-----------+------------+-----------------+\n",
      "|   seq_num |       time | tomostage_preci |\n",
      "+-----------+------------+-----------------+\n",
      "|         1 | 15:56:14.4 |      3.49953570 |\n",
      "+-----------+------------+-----------------+\n",
      "generator scan ['de878aa8'] (scan num: 15)\n",
      "\n",
      "\n",
      "\n",
      "Transient Scan ID: 16     Time: 2019-04-08 15:56:15\n",
      "Persistent Unique Scan ID: '52609d5a-c3a1-4a8e-b3df-1bc2a4497b1d'\n",
      "New stream: 'primary'\n",
      "+-----------+------------+-----------------+\n",
      "|   seq_num |       time | tomostage_preci |\n",
      "+-----------+------------+-----------------+\n",
      "|         1 | 15:56:16.0 |      3.74931456 |\n",
      "+-----------+------------+-----------------+\n",
      "generator scan ['52609d5a'] (scan num: 16)\n",
      "\n",
      "\n",
      "\n",
      "Transient Scan ID: 17     Time: 2019-04-08 15:56:17\n",
      "Persistent Unique Scan ID: 'da670939-df94-4937-9b01-e0aef13ddfab'\n",
      "New stream: 'primary'\n",
      "+-----------+------------+-----------------+\n",
      "|   seq_num |       time | tomostage_preci |\n",
      "+-----------+------------+-----------------+\n",
      "|         1 | 15:56:17.6 |      3.99966552 |\n",
      "+-----------+------------+-----------------+\n",
      "generator scan ['da670939'] (scan num: 17)\n",
      "\n",
      "\n",
      "\n",
      "Transient Scan ID: 18     Time: 2019-04-08 15:56:18\n",
      "Persistent Unique Scan ID: '93b5107b-1a56-4013-b177-6c6aae61d96e'\n",
      "New stream: 'primary'\n",
      "+-----------+------------+-----------------+\n",
      "|   seq_num |       time | tomostage_preci |\n",
      "+-----------+------------+-----------------+\n",
      "|         1 | 15:56:19.2 |      4.24940624 |\n",
      "+-----------+------------+-----------------+\n",
      "generator scan ['93b5107b'] (scan num: 18)\n",
      "\n",
      "\n",
      "\n",
      "Transient Scan ID: 19     Time: 2019-04-08 15:56:20\n",
      "Persistent Unique Scan ID: 'ba953794-f920-456a-9362-5dc6e2257652'\n",
      "New stream: 'primary'\n",
      "+-----------+------------+-----------------+\n",
      "|   seq_num |       time | tomostage_preci |\n",
      "+-----------+------------+-----------------+\n",
      "|         1 | 15:56:20.8 |      4.49941394 |\n",
      "+-----------+------------+-----------------+\n",
      "generator scan ['ba953794'] (scan num: 19)\n",
      "\n",
      "\n",
      "\n",
      "Transient Scan ID: 20     Time: 2019-04-08 15:56:21\n",
      "Persistent Unique Scan ID: 'e9692649-2ca2-4c04-8c74-4fb55537d951'\n",
      "New stream: 'primary'\n",
      "+-----------+------------+-----------------+\n",
      "|   seq_num |       time | tomostage_preci |\n",
      "+-----------+------------+-----------------+\n",
      "|         1 | 15:56:22.4 |      4.74961234 |\n",
      "+-----------+------------+-----------------+\n",
      "generator scan ['e9692649'] (scan num: 20)\n",
      "\n",
      "\n",
      "\n"
     ]
    },
    {
     "name": "stderr",
     "output_type": "stream",
     "text": [
      "ERROR:root:Invalid alias: The name clear can't be aliased because it is another magic command.\n",
      "ERROR:root:Invalid alias: The name more can't be aliased because it is another magic command.\n",
      "ERROR:root:Invalid alias: The name less can't be aliased because it is another magic command.\n",
      "ERROR:root:Invalid alias: The name man can't be aliased because it is another magic command.\n"
     ]
    }
   ],
   "source": [
    "RE(tomo_scan())"
   ]
  },
  {
   "cell_type": "code",
   "execution_count": null,
   "metadata": {},
   "outputs": [],
   "source": []
  },
  {
   "cell_type": "code",
   "execution_count": null,
   "metadata": {},
   "outputs": [],
   "source": []
  },
  {
   "cell_type": "code",
   "execution_count": null,
   "metadata": {},
   "outputs": [],
   "source": []
  },
  {
   "cell_type": "code",
   "execution_count": null,
   "metadata": {},
   "outputs": [],
   "source": []
  },
  {
   "cell_type": "code",
   "execution_count": 1,
   "metadata": {},
   "outputs": [],
   "source": [
    "import bluesky.plans as bp"
   ]
  },
  {
   "cell_type": "code",
   "execution_count": 3,
   "metadata": {},
   "outputs": [],
   "source": [
    "bp.scan??"
   ]
  },
  {
   "cell_type": "code",
   "execution_count": null,
   "metadata": {},
   "outputs": [],
   "source": []
  }
 ],
 "metadata": {
  "kernelspec": {
   "display_name": "Python 3",
   "language": "python",
   "name": "python3"
  },
  "language_info": {
   "codemirror_mode": {
    "name": "ipython",
    "version": 3
   },
   "file_extension": ".py",
   "mimetype": "text/x-python",
   "name": "python",
   "nbconvert_exporter": "python",
   "pygments_lexer": "ipython3",
   "version": "3.6.8"
  }
 },
 "nbformat": 4,
 "nbformat_minor": 2
}
