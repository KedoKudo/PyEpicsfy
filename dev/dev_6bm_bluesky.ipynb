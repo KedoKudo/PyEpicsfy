{
 "cells": [
  {
   "cell_type": "code",
   "execution_count": 24,
   "metadata": {},
   "outputs": [],
   "source": [
    "\n",
    "# import h5py\n",
    "import time\n",
    "# import threading\n",
    "# from collections import OrderedDict\n",
    "\n",
    "from ophyd import Component, Device, DeviceStatus, Signal\n",
    "from ophyd import FormattedComponent\n",
    "from ophyd import EpicsMotor, EpicsScaler\n",
    "from ophyd.scaler import ScalerCH\n",
    "from ophyd import EpicsSignal, EpicsSignalRO, EpicsSignalWithRBV\n",
    "from ophyd import PVPositioner, PVPositionerPC\n",
    "from ophyd import AreaDetector, PcoDetectorCam\n",
    "from ophyd import SingleTrigger, ImagePlugin, HDF5Plugin, TIFFPlugin, ProcessPlugin\n",
    "from ophyd import ADComponent\n",
    "from ophyd.areadetector.filestore_mixins import FileStoreHDF5IterativeWrite\n",
    "from ophyd.areadetector.plugins import PluginBase\n",
    "import ophyd.status  # for the wait() function\n",
    "\n",
    "from bluesky import IllegalMessageSequence\n",
    "import bluesky.suspenders\n",
    "\n",
    "# bps.mv, bps.mvr, ... (make it obvious where this originate)\n",
    "import bluesky.plan_stubs as bps\n",
    "import bluesky.plans as bp\n",
    "import bluesky.preprocessors as bpp\n",
    "from bluesky.simulators import summarize_plan\n",
    "\n",
    "import apstools.devices as APS_devices\n",
    "import apstools.plans as APS_plans"
   ]
  },
  {
   "cell_type": "code",
   "execution_count": 2,
   "metadata": {},
   "outputs": [],
   "source": [
    "# simulated devices\n",
    "\n",
    "A_shutter = APS_devices.SimulatedApsPssShutterWithStatus(name=\"A_shutter\")"
   ]
  },
  {
   "cell_type": "code",
   "execution_count": 14,
   "metadata": {},
   "outputs": [
    {
     "name": "stdout",
     "output_type": "stream",
     "text": [
      "data keys (* hints)\n",
      "-------------------\n",
      " A_shutter_busy\n",
      " A_shutter_close_signal\n",
      " A_shutter_open_signal\n",
      " A_shutter_pss_state\n",
      "\n",
      "read attrs\n",
      "----------\n",
      "busy                 Signal              ('A_shutter_busy')\n",
      "open_signal          Signal              ('A_shutter_open_signal')\n",
      "close_signal         Signal              ('A_shutter_close_signal')\n",
      "pss_state            Signal              ('A_shutter_pss_state')\n",
      "\n",
      "config keys\n",
      "-----------\n",
      "\n",
      "configuration attrs\n",
      "-------------------\n",
      "\n",
      "unused attrs\n",
      "------------\n",
      "\n"
     ]
    }
   ],
   "source": [
    "A_shutter.summary()"
   ]
  },
  {
   "cell_type": "code",
   "execution_count": 7,
   "metadata": {
    "scrolled": true
   },
   "outputs": [
    {
     "data": {
      "text/plain": [
       "True"
      ]
     },
     "execution_count": 7,
     "metadata": {},
     "output_type": "execute_result"
    }
   ],
   "source": [
    "A_shutter.isOpen\n",
    "\n",
    "# check ideas 108"
   ]
  },
  {
   "cell_type": "markdown",
   "metadata": {},
   "source": [
    "# Operation shutter in 6BM_A"
   ]
  },
  {
   "cell_type": "code",
   "execution_count": 15,
   "metadata": {},
   "outputs": [],
   "source": [
    "# 6bm shutter\n",
    "A_shutter = APS_devices.ApsPssShutterWithStatus(\n",
    "    \"6bmb1:rShtrA\",\n",
    "    \"PA:06BM:STA_A_FES_OPEN_PL\",\n",
    "    name=\"A_shutter\",\n",
    "    )"
   ]
  },
  {
   "cell_type": "code",
   "execution_count": null,
   "metadata": {},
   "outputs": [],
   "source": []
  },
  {
   "cell_type": "markdown",
   "metadata": {},
   "source": [
    "# Configuring AreaDetector"
   ]
  },
  {
   "cell_type": "code",
   "execution_count": null,
   "metadata": {},
   "outputs": [],
   "source": [
    "from ophyd import PointGreyDetectorCam, ProcessPlugin\n",
    "\n",
    "# -- user config\n",
    "\n",
    "\n",
    "\n",
    "# -- operation\n",
    "ADPV_prefix = \"1idPG3\"  # new detector\n",
    "USER6BMA_ROOT_DIR = \"TODO\"\n",
    "FILE_PATH = \"TODO\"\n",
    "\n",
    "\n",
    "class MyPointGreyDetectorCam(PointGreyDetectorCam):\n",
    "    \"\"\"PointGrey Grasshopper3 cam plugin customizations (properties)\"\"\"\n",
    "    auto_exposure_on_off = ADComponent(EpicsSignalWithRBV, \"AutoExposureOnOff\")\n",
    "    auto_exposure_auto_mode = ADComponent(EpicsSignalWithRBV, \"AutoExposureAutoMode\")\n",
    "    sharpness_on_off = ADComponent(EpicsSignalWithRBV, \"SharpnessOnOff\")\n",
    "    sharpness_auto_mode = ADComponent(EpicsSignalWithRBV, \"SharpnessAutoMode\")\n",
    "    gamma_on_off = ADComponent(EpicsSignalWithRBV, \"GammaOnOff\")\n",
    "    shutter_auto_mode = ADComponent(EpicsSignalWithRBV, \"ShutterAutoMode\")\n",
    "    gain_auto_mode = ADComponent(EpicsSignalWithRBV, \"GainAutoMode\")\n",
    "    trigger_mode_on_off = ADComponent(EpicsSignalWithRBV, \"TriggerModeOnOff\")\n",
    "    trigger_mode_auto_mode = ADComponent(EpicsSignalWithRBV, \"TriggerModeAutoMode\")\n",
    "    trigger_delay_on_off = ADComponent(EpicsSignalWithRBV, \"TriggerDelayOnOff\")\n",
    "    frame_rate_on_off = ADComponent(EpicsSignalWithRBV, \"FrameRateOnOff\")\n",
    "    frame_rate_auto_mode = ADComponent(EpicsSignalWithRBV, \"FrameRateAutoMode\")\n",
    "    # there are other PG3 properties, ignore them for now\n",
    "\n",
    "\n",
    "class PointGreyDetector6BMB(SingleTrigger, AreaDetector):\n",
    "    \"\"\"\"\"\"\n",
    "    cam = ADComponent(MyPointGreyDetectorCam, \"cam1:\")\n",
    "    \n",
    "    tiff1 = ADComponent(\n",
    "        TIFFPlugin,\n",
    "        suffix=\"TIFF1:\",\n",
    "        root=\"/\",                               # for databroker\n",
    "        write_path_template=FILE_PATH,          # for EPICS AD\n",
    "    )\n",
    "    \n",
    "    proc1 = ADComponent(\n",
    "        ProcessPlugin,\n",
    "        suffix=\"PROC1\",\n",
    "    )\n"
   ]
  },
  {
   "cell_type": "code",
   "execution_count": 10,
   "metadata": {},
   "outputs": [],
   "source": [
    "# query APS status\n",
    "\n",
    "aps = APS_devices.ApsMachineParametersDevice(name=\"APS\")\n"
   ]
  },
  {
   "cell_type": "code",
   "execution_count": null,
   "metadata": {},
   "outputs": [],
   "source": [
    "# TODO: operation status checker for 6bm\n",
    "\n",
    "def operations_in_6bmb():\n",
    "    pass"
   ]
  },
  {
   "cell_type": "markdown",
   "metadata": {},
   "source": [
    "Need additional setup IOC (soft) for this status.\n",
    "recommended method `put in VME`\n",
    "\n",
    "```python\n",
    "instrument_in_use = EpicsSignalRO(\n",
    "    \"2bm:instrument_in_use\", \n",
    "    name=\"instrument_in_use\")\n",
    "\n",
    "def operations_in_2bmb():\n",
    "    \"\"\"returns True if allowed to use X-ray beam in 2-BM-B station\"\"\"\n",
    "    v = instrument_in_use.value\n",
    "    enums = instrument_in_use.enum_strs\n",
    "    return enums[v] == \"2-BM-B\"\n",
    "```"
   ]
  },
  {
   "cell_type": "code",
   "execution_count": 12,
   "metadata": {},
   "outputs": [
    {
     "ename": "TimeoutError",
     "evalue": "S:DesiredMode could not connect within 1.0-second timeout.",
     "output_type": "error",
     "traceback": [
      "\u001b[0;31m---------------------------------------------------------------------------\u001b[0m",
      "\u001b[0;31mTimeoutError\u001b[0m                              Traceback (most recent call last)",
      "\u001b[0;32m<ipython-input-12-b3a020f2589d>\u001b[0m in \u001b[0;36m<module>\u001b[0;34m\u001b[0m\n\u001b[0;32m----> 1\u001b[0;31m \u001b[0maps\u001b[0m\u001b[0;34m.\u001b[0m\u001b[0minUserOperations\u001b[0m\u001b[0;34m\u001b[0m\u001b[0;34m\u001b[0m\u001b[0m\n\u001b[0m",
      "\u001b[0;32m~/.pyenv/versions/miniconda3-4.3.30/lib/python3.6/site-packages/apstools/devices.py\u001b[0m in \u001b[0;36minUserOperations\u001b[0;34m(self)\u001b[0m\n\u001b[1;32m    254\u001b[0m \u001b[0;34m\u001b[0m\u001b[0m\n\u001b[1;32m    255\u001b[0m         \"\"\"\n\u001b[0;32m--> 256\u001b[0;31m         \u001b[0mverdict\u001b[0m \u001b[0;34m=\u001b[0m \u001b[0mself\u001b[0m\u001b[0;34m.\u001b[0m\u001b[0mmachine_status\u001b[0m\u001b[0;34m.\u001b[0m\u001b[0mvalue\u001b[0m \u001b[0;32min\u001b[0m \u001b[0;34m(\u001b[0m\u001b[0;36m1\u001b[0m\u001b[0;34m,\u001b[0m \u001b[0;34m\"USER OPERATIONS\"\u001b[0m\u001b[0;34m)\u001b[0m\u001b[0;34m\u001b[0m\u001b[0;34m\u001b[0m\u001b[0m\n\u001b[0m\u001b[1;32m    257\u001b[0m         \u001b[0;31m# verdict = verdict and self.operating_mode.value not in (5, \"MAINTENANCE\")\u001b[0m\u001b[0;34m\u001b[0m\u001b[0;34m\u001b[0m\u001b[0;34m\u001b[0m\u001b[0m\n\u001b[1;32m    258\u001b[0m         \u001b[0;32mreturn\u001b[0m \u001b[0mverdict\u001b[0m\u001b[0;34m\u001b[0m\u001b[0;34m\u001b[0m\u001b[0m\n",
      "\u001b[0;32m~/.pyenv/versions/miniconda3-4.3.30/lib/python3.6/site-packages/ophyd/signal.py\u001b[0m in \u001b[0;36mvalue\u001b[0;34m(self)\u001b[0m\n\u001b[1;32m    269\u001b[0m             \u001b[0;32mreturn\u001b[0m \u001b[0mself\u001b[0m\u001b[0;34m.\u001b[0m\u001b[0m_readback\u001b[0m\u001b[0;34m\u001b[0m\u001b[0;34m\u001b[0m\u001b[0m\n\u001b[1;32m    270\u001b[0m \u001b[0;34m\u001b[0m\u001b[0m\n\u001b[0;32m--> 271\u001b[0;31m         \u001b[0;32mreturn\u001b[0m \u001b[0mself\u001b[0m\u001b[0;34m.\u001b[0m\u001b[0mget\u001b[0m\u001b[0;34m(\u001b[0m\u001b[0;34m)\u001b[0m\u001b[0;34m\u001b[0m\u001b[0;34m\u001b[0m\u001b[0m\n\u001b[0m\u001b[1;32m    272\u001b[0m \u001b[0;34m\u001b[0m\u001b[0m\n\u001b[1;32m    273\u001b[0m     \u001b[0;34m@\u001b[0m\u001b[0mvalue\u001b[0m\u001b[0;34m.\u001b[0m\u001b[0msetter\u001b[0m\u001b[0;34m\u001b[0m\u001b[0;34m\u001b[0m\u001b[0m\n",
      "\u001b[0;32m~/.pyenv/versions/miniconda3-4.3.30/lib/python3.6/site-packages/ophyd/signal.py\u001b[0m in \u001b[0;36mget\u001b[0;34m(self, as_string, connection_timeout, form, **kwargs)\u001b[0m\n\u001b[1;32m    821\u001b[0m             \u001b[0mas_string\u001b[0m \u001b[0;34m=\u001b[0m \u001b[0mself\u001b[0m\u001b[0;34m.\u001b[0m\u001b[0m_string\u001b[0m\u001b[0;34m\u001b[0m\u001b[0;34m\u001b[0m\u001b[0m\n\u001b[1;32m    822\u001b[0m \u001b[0;34m\u001b[0m\u001b[0m\n\u001b[0;32m--> 823\u001b[0;31m         \u001b[0mself\u001b[0m\u001b[0;34m.\u001b[0m\u001b[0mwait_for_connection\u001b[0m\u001b[0;34m(\u001b[0m\u001b[0mtimeout\u001b[0m\u001b[0;34m=\u001b[0m\u001b[0mconnection_timeout\u001b[0m\u001b[0;34m)\u001b[0m\u001b[0;34m\u001b[0m\u001b[0;34m\u001b[0m\u001b[0m\n\u001b[0m\u001b[1;32m    824\u001b[0m         info = self._read_pv.get_with_metadata(as_string=as_string, form=form,\n\u001b[1;32m    825\u001b[0m                                                **kwargs)\n",
      "\u001b[0;32m~/.pyenv/versions/miniconda3-4.3.30/lib/python3.6/site-packages/ophyd/signal.py\u001b[0m in \u001b[0;36mwait_for_connection\u001b[0;34m(self, timeout)\u001b[0m\n\u001b[1;32m    763\u001b[0m         \u001b[0;34m'''Wait for the underlying signals to initialize or connect'''\u001b[0m\u001b[0;34m\u001b[0m\u001b[0;34m\u001b[0m\u001b[0m\n\u001b[1;32m    764\u001b[0m         \u001b[0;32mtry\u001b[0m\u001b[0;34m:\u001b[0m\u001b[0;34m\u001b[0m\u001b[0;34m\u001b[0m\u001b[0m\n\u001b[0;32m--> 765\u001b[0;31m             \u001b[0mself\u001b[0m\u001b[0;34m.\u001b[0m\u001b[0m_ensure_connected\u001b[0m\u001b[0;34m(\u001b[0m\u001b[0mself\u001b[0m\u001b[0;34m.\u001b[0m\u001b[0m_read_pv\u001b[0m\u001b[0;34m,\u001b[0m \u001b[0mtimeout\u001b[0m\u001b[0;34m=\u001b[0m\u001b[0mtimeout\u001b[0m\u001b[0;34m)\u001b[0m\u001b[0;34m\u001b[0m\u001b[0;34m\u001b[0m\u001b[0m\n\u001b[0m\u001b[1;32m    766\u001b[0m         \u001b[0;32mexcept\u001b[0m \u001b[0mTimeoutError\u001b[0m \u001b[0;32mas\u001b[0m \u001b[0mex\u001b[0m\u001b[0;34m:\u001b[0m\u001b[0;34m\u001b[0m\u001b[0;34m\u001b[0m\u001b[0m\n\u001b[1;32m    767\u001b[0m             \u001b[0;32mif\u001b[0m \u001b[0mself\u001b[0m\u001b[0;34m.\u001b[0m\u001b[0m_destroyed\u001b[0m\u001b[0;34m:\u001b[0m\u001b[0;34m\u001b[0m\u001b[0;34m\u001b[0m\u001b[0m\n",
      "\u001b[0;32m~/.pyenv/versions/miniconda3-4.3.30/lib/python3.6/site-packages/ophyd/signal.py\u001b[0m in \u001b[0;36m_ensure_connected\u001b[0;34m(self, timeout, *pvs)\u001b[0m\n\u001b[1;32m    741\u001b[0m         \u001b[0;32mfor\u001b[0m \u001b[0mpv\u001b[0m \u001b[0;32min\u001b[0m \u001b[0mpvs\u001b[0m\u001b[0;34m:\u001b[0m\u001b[0;34m\u001b[0m\u001b[0;34m\u001b[0m\u001b[0m\n\u001b[1;32m    742\u001b[0m             \u001b[0;32mif\u001b[0m \u001b[0;32mnot\u001b[0m \u001b[0mpv\u001b[0m\u001b[0;34m.\u001b[0m\u001b[0mwait_for_connection\u001b[0m\u001b[0;34m(\u001b[0m\u001b[0mtimeout\u001b[0m\u001b[0;34m=\u001b[0m\u001b[0mtimeout\u001b[0m\u001b[0;34m)\u001b[0m\u001b[0;34m:\u001b[0m\u001b[0;34m\u001b[0m\u001b[0;34m\u001b[0m\u001b[0m\n\u001b[0;32m--> 743\u001b[0;31m                 raise TimeoutError(f\"{pv.pvname} could not connect within \"\n\u001b[0m\u001b[1;32m    744\u001b[0m                                    f\"{float(timeout):.3}-second timeout.\")\n\u001b[1;32m    745\u001b[0m \u001b[0;34m\u001b[0m\u001b[0m\n",
      "\u001b[0;31mTimeoutError\u001b[0m: S:DesiredMode could not connect within 1.0-second timeout."
     ]
    }
   ],
   "source": [
    "aps.inUserOperations"
   ]
  },
  {
   "cell_type": "markdown",
   "metadata": {},
   "source": [
    "# Configur motors"
   ]
  },
  {
   "cell_type": "code",
   "execution_count": 21,
   "metadata": {},
   "outputs": [
    {
     "ename": "TypeError",
     "evalue": "__init__() missing 1 required keyword-only argument: 'name'",
     "output_type": "error",
     "traceback": [
      "\u001b[0;31m---------------------------------------------------------------------------\u001b[0m",
      "\u001b[0;31mTypeError\u001b[0m                                 Traceback (most recent call last)",
      "\u001b[0;32m<ipython-input-21-a061ce789260>\u001b[0m in \u001b[0;36m<module>\u001b[0;34m\u001b[0m\n\u001b[1;32m     15\u001b[0m                     )\n\u001b[1;32m     16\u001b[0m \u001b[0;34m\u001b[0m\u001b[0m\n\u001b[0;32m---> 17\u001b[0;31m \u001b[0mtomostage\u001b[0m \u001b[0;34m=\u001b[0m \u001b[0mTomoStage\u001b[0m\u001b[0;34m(\u001b[0m\u001b[0;34m)\u001b[0m\u001b[0;34m\u001b[0m\u001b[0;34m\u001b[0m\u001b[0m\n\u001b[0m\u001b[1;32m     18\u001b[0m \u001b[0;34m\u001b[0m\u001b[0m\n\u001b[1;32m     19\u001b[0m \u001b[0msamx\u001b[0m \u001b[0;34m=\u001b[0m \u001b[0mtomostage\u001b[0m\u001b[0;34m.\u001b[0m\u001b[0msamX\u001b[0m\u001b[0;34m\u001b[0m\u001b[0;34m\u001b[0m\u001b[0m\n",
      "\u001b[0;31mTypeError\u001b[0m: __init__() missing 1 required keyword-only argument: 'name'"
     ]
    }
   ],
   "source": [
    "from ophyd import MotorBundle\n",
    "\n",
    "class TomoStage(MotorBundle):\n",
    "    #rotation\n",
    "    preci = Component(EpicsMotor, \"6bmpreci:m1\",\n",
    "                      name='preci',\n",
    "                     )\n",
    "    \n",
    "    samX = Component(EpicsMotor, \"???\",\n",
    "                     name='samX',\n",
    "                    )\n",
    "    \n",
    "    samY = Component(EpicsMotor, \"???\",\n",
    "                     name=\"samY\",\n",
    "                    )\n",
    "\n",
    "tomostage = TomoStage()\n",
    "\n",
    "samx = tomostage.samX\n",
    "samy = tomostage.samY\n",
    "samr = tomostage.preci"
   ]
  },
  {
   "cell_type": "code",
   "execution_count": null,
   "metadata": {},
   "outputs": [],
   "source": [
    "import ophyd.sim\n"
   ]
  },
  {
   "cell_type": "markdown",
   "metadata": {},
   "source": [
    "# UserCalc"
   ]
  },
  {
   "cell_type": "code",
   "execution_count": null,
   "metadata": {},
   "outputs": [],
   "source": [
    "# grab all usercalcs\n",
    "import apstools.synApps_ophyd\n",
    "calcs = apstools.synApps_ophyd.userCalcsDevice(\"6bma1:\", name=\"calcs\")\n",
    "\n",
    "# 2 is ambient light checker\n",
    "calc2 = clacs.calc2\n"
   ]
  },
  {
   "cell_type": "markdown",
   "metadata": {},
   "source": [
    "# Scan plans"
   ]
  },
  {
   "cell_type": "code",
   "execution_count": 19,
   "metadata": {},
   "outputs": [
    {
     "ename": "ModuleNotFoundError",
     "evalue": "No module named 'matplotlib'",
     "output_type": "error",
     "traceback": [
      "\u001b[0;31m---------------------------------------------------------------------------\u001b[0m",
      "\u001b[0;31mModuleNotFoundError\u001b[0m                       Traceback (most recent call last)",
      "\u001b[0;32m<ipython-input-19-e9198b10ff5a>\u001b[0m in \u001b[0;36m<module>\u001b[0;34m\u001b[0m\n\u001b[1;32m      2\u001b[0m \u001b[0;32mimport\u001b[0m \u001b[0mbluesky\u001b[0m\u001b[0;34m.\u001b[0m\u001b[0mplans\u001b[0m \u001b[0;32mas\u001b[0m \u001b[0mbp\u001b[0m\u001b[0;34m\u001b[0m\u001b[0;34m\u001b[0m\u001b[0m\n\u001b[1;32m      3\u001b[0m \u001b[0;32mimport\u001b[0m \u001b[0mbluesky\u001b[0m\u001b[0;34m.\u001b[0m\u001b[0mplan_stubs\u001b[0m \u001b[0;32mas\u001b[0m \u001b[0mbps\u001b[0m\u001b[0;34m\u001b[0m\u001b[0;34m\u001b[0m\u001b[0m\n\u001b[0;32m----> 4\u001b[0;31m \u001b[0;32mfrom\u001b[0m \u001b[0mbluesky\u001b[0m\u001b[0;34m.\u001b[0m\u001b[0mcallbacks\u001b[0m\u001b[0;34m.\u001b[0m\u001b[0mbest_effort\u001b[0m \u001b[0;32mimport\u001b[0m \u001b[0mBestEffortCallback\u001b[0m\u001b[0;34m\u001b[0m\u001b[0;34m\u001b[0m\u001b[0m\n\u001b[0m",
      "\u001b[0;32m~/.pyenv/versions/miniconda3-4.3.30/lib/python3.6/site-packages/bluesky/callbacks/best_effort.py\u001b[0m in \u001b[0;36m<module>\u001b[0;34m\u001b[0m\n\u001b[1;32m      9\u001b[0m \u001b[0;32mimport\u001b[0m \u001b[0mitertools\u001b[0m\u001b[0;34m\u001b[0m\u001b[0;34m\u001b[0m\u001b[0m\n\u001b[1;32m     10\u001b[0m \u001b[0;32mimport\u001b[0m \u001b[0mnumpy\u001b[0m \u001b[0;32mas\u001b[0m \u001b[0mnp\u001b[0m\u001b[0;34m\u001b[0m\u001b[0;34m\u001b[0m\u001b[0m\n\u001b[0;32m---> 11\u001b[0;31m \u001b[0;32mimport\u001b[0m \u001b[0mmatplotlib\u001b[0m\u001b[0;34m.\u001b[0m\u001b[0mpyplot\u001b[0m \u001b[0;32mas\u001b[0m \u001b[0mplt\u001b[0m\u001b[0;34m\u001b[0m\u001b[0;34m\u001b[0m\u001b[0m\n\u001b[0m\u001b[1;32m     12\u001b[0m \u001b[0;32mfrom\u001b[0m \u001b[0mpprint\u001b[0m \u001b[0;32mimport\u001b[0m \u001b[0mpformat\u001b[0m\u001b[0;34m\u001b[0m\u001b[0;34m\u001b[0m\u001b[0m\n\u001b[1;32m     13\u001b[0m \u001b[0;32mimport\u001b[0m \u001b[0mre\u001b[0m\u001b[0;34m\u001b[0m\u001b[0;34m\u001b[0m\u001b[0m\n",
      "\u001b[0;31mModuleNotFoundError\u001b[0m: No module named 'matplotlib'"
     ]
    }
   ],
   "source": [
    "from bluesky import RunEngine\n",
    "import bluesky.plans as bp\n",
    "import bluesky.plan_stubs as bps\n",
    "from bluesky.callbacks.best_effort import BestEffortCallback"
   ]
  },
  {
   "cell_type": "code",
   "execution_count": 20,
   "metadata": {},
   "outputs": [
    {
     "ename": "NameError",
     "evalue": "name 'BestEffortCallback' is not defined",
     "output_type": "error",
     "traceback": [
      "\u001b[0;31m---------------------------------------------------------------------------\u001b[0m",
      "\u001b[0;31mNameError\u001b[0m                                 Traceback (most recent call last)",
      "\u001b[0;32m<ipython-input-20-a34f281c8c2a>\u001b[0m in \u001b[0;36m<module>\u001b[0;34m\u001b[0m\n\u001b[1;32m      1\u001b[0m \u001b[0mRE\u001b[0m \u001b[0;34m=\u001b[0m \u001b[0mRunEngine\u001b[0m\u001b[0;34m(\u001b[0m\u001b[0;34m{\u001b[0m\u001b[0;34m}\u001b[0m\u001b[0;34m)\u001b[0m\u001b[0;34m\u001b[0m\u001b[0;34m\u001b[0m\u001b[0m\n\u001b[0;32m----> 2\u001b[0;31m \u001b[0mRE\u001b[0m\u001b[0;34m.\u001b[0m\u001b[0msubscribe\u001b[0m\u001b[0;34m(\u001b[0m\u001b[0mBestEffortCallback\u001b[0m\u001b[0;34m(\u001b[0m\u001b[0;34m)\u001b[0m\u001b[0;34m)\u001b[0m\u001b[0;34m\u001b[0m\u001b[0;34m\u001b[0m\u001b[0m\n\u001b[0m",
      "\u001b[0;31mNameError\u001b[0m: name 'BestEffortCallback' is not defined"
     ]
    }
   ],
   "source": [
    "RE = RunEngine({})\n",
    "RE.subscribe(BestEffortCallback())"
   ]
  },
  {
   "cell_type": "code",
   "execution_count": null,
   "metadata": {},
   "outputs": [],
   "source": [
    "det = PointGreyDetector6BMB()\n",
    "\n",
    "n_white = 10\n",
    "n_dark = 10\n",
    "\n",
    "samOutDist = -4.00  # mm\n",
    "\n",
    "omega_step = 0.25                            # degrees\n",
    "number_of_projections = int(180/omega_step)  # 0 ~ 180\n",
    "\n",
    "# area detector stage config paras\n",
    "trigger_wait = 0.01  # sec\n",
    "detector_gain = 5    # sec\n",
    "\n",
    "exposure_time = \n",
    "\n",
    "\n",
    "# setting monitor\n",
    "# NOTE:\n",
    "#    part of the scan plan\n",
    "if operations_in_6bma() and aps.inUserOperations:\n",
    "    # no scans until A_shutter is open\n",
    "    suspend_A_shutter = bluesky.suspenders.SuspendFloor(\n",
    "        A_shutter.pss_state, 1)\n",
    "    #suspend_A_shutter.install(RE)\n",
    "    RE.install_suspender(suspend_A_shutter)\n",
    "    \n",
    "     # no scans if aps.current is too low\n",
    "    suspend_APS_current = bluesky.suspenders.SuspendFloor(\n",
    "        aps_current, 2, resume_thresh=10)\n",
    "    RE.install_suspender(suspend_APS_current)\n",
    "    \n",
    "\n",
    "def collect_white_field():\n",
    "    \n",
    "    current_samx = samx.position\n",
    "    \n",
    "    yield from bps.mv(\n",
    "        A_shutter, \"open\", \n",
    "        samx, current_samx+samOutDist,\n",
    "        det.cam.trigger_mode, \"Internal\",\n",
    "        det.cam.num_images, n_white,\n",
    "    )\n",
    "    \n",
    "    yield from bps.trigger(det)\n",
    "    \n",
    "    yield from lambda _: while det.tiff1.num_captured.value < n_white: yield from bps.sleep(0.01)\n",
    "\n",
    "    yield from bps.mv(\n",
    "        samx, current_samx\n",
    "    )\n",
    "\n",
    "\n",
    "def collect_white_field():\n",
    "    \n",
    "    current_samx = samx.position\n",
    "    \n",
    "    yield from bps.mv(\n",
    "        A_shutter, \"close\", \n",
    "        samx, current_samx+samOutDist,\n",
    "        det.cam.trigger_mode, \"Internal\",\n",
    "        det.cam.num_images, n_dark,\n",
    "    )\n",
    "    \n",
    "    yield from bps.trigger(det)\n",
    "    \n",
    "    yield from lambda _: while det.tiff1.num_captured.value < n_white: yield from bps.sleep(0.01)\n",
    "\n",
    "    yield from bps.mv(\n",
    "        samx, current_samx\n",
    "    )\n",
    "    \n",
    "    \n",
    "def collect_projection():\n",
    "    \n",
    "    yield from bp.scan(\n",
    "        [det], \n",
    "        samr, 0, 180, number_of_projections,\n",
    "    )\n",
    "\n"
   ]
  },
  {
   "cell_type": "code",
   "execution_count": null,
   "metadata": {},
   "outputs": [],
   "source": [
    "# check plan\n",
    "\n",
    "summarize"
   ]
  }
 ],
 "metadata": {
  "kernelspec": {
   "display_name": "Python 3",
   "language": "python",
   "name": "python3"
  },
  "language_info": {
   "codemirror_mode": {
    "name": "ipython",
    "version": 3
   },
   "file_extension": ".py",
   "mimetype": "text/x-python",
   "name": "python",
   "nbconvert_exporter": "python",
   "pygments_lexer": "ipython3",
   "version": "3.6.8"
  }
 },
 "nbformat": 4,
 "nbformat_minor": 2
}
